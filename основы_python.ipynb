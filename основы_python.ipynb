{
  "cells": [
    {
      "cell_type": "markdown",
      "metadata": {
        "id": "M-DGa20PaHnu"
      },
      "source": [
        "#Задача 1\n",
        "Написать функцию на вход которой подается строка, состоящая из латинских букв.\n",
        "Функция должна вернуть количество гласных букв (a, e, i, o, u) в этой строке. Написать тесты для кода"
      ]
    },
    {
      "cell_type": "code",
      "execution_count": 1,
      "metadata": {
        "id": "XvX8X_JJ6PCb"
      },
      "outputs": [
        {
          "name": "stdout",
          "output_type": "stream",
          "text": [
            "6\n",
            "3\n",
            "0\n",
            "0\n",
            "5\n",
            "10\n"
          ]
        }
      ],
      "source": [
        "def CountVovels(string: str):\n",
        "    string = string.lower()\n",
        "    vovels = ['a', 'e', 'i', 'o', 'u']\n",
        "    count = 0;\n",
        "    for vovel in vovels:\n",
        "        count += string.count(vovel)\n",
        "    return count\n",
        "\n",
        "print(CountVovels('aaeeii'))\n",
        "print(CountVovels('Hello world'))\n",
        "print(CountVovels(''))\n",
        "print(CountVovels('hrtnb'))\n",
        "print(CountVovels('AeIoU'))\n",
        "print(CountVovels('AaEeIiOoUu'))"
      ]
    },
    {
      "cell_type": "markdown",
      "metadata": {
        "id": "t2ClV_Y0bbr6"
      },
      "source": [
        "# Задача 2\n",
        "Написать функцию на вход, которой подается строка. Функция должна вернуть true, если\n",
        "каждый символ в строке встречается только 1 раз, иначе должна вернуть false. Написать тесты для кода"
      ]
    },
    {
      "cell_type": "code",
      "execution_count": 4,
      "metadata": {
        "id": "FppbECao6VIz"
      },
      "outputs": [
        {
          "name": "stdout",
          "output_type": "stream",
          "text": [
            "True\n",
            "True\n",
            "False\n",
            "True\n",
            "False\n"
          ]
        }
      ],
      "source": [
        "def AreSymbolsUnique(string: str):\n",
        "    symbols = list(string)\n",
        "    uniqueSymbols = set(symbols)\n",
        "    return(len(uniqueSymbols) == len(symbols))\n",
        "\n",
        "print(AreSymbolsUnique('qwerty'))\n",
        "print(AreSymbolsUnique('Aa'))\n",
        "print(AreSymbolsUnique('AA'))\n",
        "print(AreSymbolsUnique('H W'))\n",
        "print(AreSymbolsUnique('H  W'))"
      ]
    },
    {
      "cell_type": "markdown",
      "metadata": {
        "id": "udRiIK1cdt6E"
      },
      "source": [
        "# Задача 3\n",
        "Написать функцию, которая принимает положительное число и возвращает количество\n",
        "бит равных 1 в этом числе. Написать тесты для кода"
      ]
    },
    {
      "cell_type": "code",
      "execution_count": 10,
      "metadata": {
        "id": "6tkfDJRz6dp_"
      },
      "outputs": [
        {
          "name": "stdout",
          "output_type": "stream",
          "text": [
            "1 0b1\n",
            "0 0b1\n",
            "1 0b10\n",
            "2 0b11\n",
            "2 0b1010\n"
          ]
        },
        {
          "ename": "Exception",
          "evalue": "Число не положительно",
          "output_type": "error",
          "traceback": [
            "\u001b[1;31m---------------------------------------------------------------------------\u001b[0m",
            "\u001b[1;31mException\u001b[0m                                 Traceback (most recent call last)",
            "Cell \u001b[1;32mIn[10], line 12\u001b[0m\n\u001b[0;32m     10\u001b[0m \u001b[38;5;28mprint\u001b[39m(CountOneBits(\u001b[38;5;241m3\u001b[39m), \u001b[38;5;28mbin\u001b[39m(\u001b[38;5;241m3\u001b[39m))\n\u001b[0;32m     11\u001b[0m \u001b[38;5;28mprint\u001b[39m(CountOneBits(\u001b[38;5;241m10\u001b[39m), \u001b[38;5;28mbin\u001b[39m(\u001b[38;5;241m10\u001b[39m))\n\u001b[1;32m---> 12\u001b[0m \u001b[38;5;28mprint\u001b[39m(\u001b[43mCountOneBits\u001b[49m\u001b[43m(\u001b[49m\u001b[38;5;241;43m-\u001b[39;49m\u001b[38;5;241;43m1\u001b[39;49m\u001b[43m)\u001b[49m)\n",
            "Cell \u001b[1;32mIn[10], line 3\u001b[0m, in \u001b[0;36mCountOneBits\u001b[1;34m(number)\u001b[0m\n\u001b[0;32m      1\u001b[0m \u001b[38;5;28;01mdef\u001b[39;00m \u001b[38;5;21mCountOneBits\u001b[39m(number: \u001b[38;5;28mint\u001b[39m):\n\u001b[0;32m      2\u001b[0m     \u001b[38;5;28;01mif\u001b[39;00m number \u001b[38;5;241m<\u001b[39m \u001b[38;5;241m0\u001b[39m:\n\u001b[1;32m----> 3\u001b[0m         \u001b[38;5;28;01mraise\u001b[39;00m \u001b[38;5;167;01mException\u001b[39;00m(\u001b[38;5;124m'\u001b[39m\u001b[38;5;124mЧисло не положительно\u001b[39m\u001b[38;5;124m'\u001b[39m)\n\u001b[0;32m      4\u001b[0m     binNumber \u001b[38;5;241m=\u001b[39m \u001b[38;5;28mbin\u001b[39m(number)[\u001b[38;5;241m2\u001b[39m:]\n\u001b[0;32m      5\u001b[0m     \u001b[38;5;28;01mreturn\u001b[39;00m binNumber\u001b[38;5;241m.\u001b[39mcount(\u001b[38;5;124m'\u001b[39m\u001b[38;5;124m1\u001b[39m\u001b[38;5;124m'\u001b[39m)\n",
            "\u001b[1;31mException\u001b[0m: Число не положительно"
          ]
        }
      ],
      "source": [
        "def CountOneBits(number: int):\n",
        "    if number < 0:\n",
        "        raise Exception('Число не положительно')\n",
        "    binNumber = bin(number)[2:]\n",
        "    return binNumber.count('1')\n",
        "\n",
        "print(CountOneBits(1), bin(1))\n",
        "print(CountOneBits(0) ,bin(1))\n",
        "print(CountOneBits(2), bin(2))\n",
        "print(CountOneBits(3), bin(3))\n",
        "print(CountOneBits(10), bin(10))\n"
      ]
    },
    {
      "cell_type": "markdown",
      "metadata": {
        "id": "26dDUz-Ae17N"
      },
      "source": [
        "# Задача 4\n",
        "Написать функцию, которая принимает положительное число. Функция должна вернуть то,\n",
        "сколько раз необходимо перемножать цифры числа или результат перемножения, чтобы\n",
        "получилось число состоящее из одной цифры.\n",
        "Например, для входного числа:\n",
        "· 39 функция должна вернуть 3, так как 3*9=27 => 2*7=14 => 1*4=4\n",
        "· 4 функция должна вернуть 0, так как число уже состоит из одной цифры\n",
        "· 999 функция должна вернуть 4, так как 9*9*9=729 => 7*2*9=126 => 1*2*6=12 =>\n",
        "1*2=2. Написать тесты для кода"
      ]
    },
    {
      "cell_type": "code",
      "execution_count": 13,
      "metadata": {
        "id": "BH1A_Mgi6i4G"
      },
      "outputs": [
        {
          "name": "stdout",
          "output_type": "stream",
          "text": [
            "3\n",
            "0\n",
            "4\n",
            "1\n",
            "3\n"
          ]
        }
      ],
      "source": [
        "def magic(n):\n",
        "    if number < 0:\n",
        "        raise Exception('Число не положительно')\n",
        "    count = 0;\n",
        "    while n >= 10:\n",
        "        count += 1\n",
        "        temp = 1\n",
        "        for i in str(n):\n",
        "            temp *= int(i)\n",
        "        n = temp\n",
        "    return count\n",
        "\n",
        "print(magic(39))\n",
        "print(magic(4))\n",
        "print(magic(999))\n",
        "print(magic(1000))\n",
        "print(magic(1111155))"
      ]
    },
    {
      "cell_type": "markdown",
      "metadata": {
        "id": "0nS-kIa8g8vd"
      },
      "source": [
        "# Задача 5\n",
        "Написать функцию, которая принимает два целочисленных вектора одинаковой длины и\n",
        "возвращает среднеквадратическое отклонение двух векторов. Написать тесты для кода"
      ]
    },
    {
      "cell_type": "code",
      "execution_count": 23,
      "metadata": {
        "id": "8iphx4LM6xbx"
      },
      "outputs": [
        {
          "name": "stdout",
          "output_type": "stream",
          "text": [
            "1.0\n",
            "16.0\n"
          ]
        }
      ],
      "source": [
        "#Не знал что такре СКО, использовал объяснение из этой статьи \n",
        "# https://citizenside.com/technology/what-is-mse-in-machine-learning/\n",
        "#Не знаю, правильно ли я понял определение\n",
        "import math\n",
        "def mse(pred, true):\n",
        "    sum1 = 0\n",
        "    sum2 = 0\n",
        "    for i in pred:\n",
        "        sum1 += i**2\n",
        "    for i in true:\n",
        "        sum2 += i**2\n",
        "    \n",
        "    if math.sqrt(sum1) != math.sqrt(sum2) or len(pred) != len(true):\n",
        "        raise Exception('Длины векторов не равны')\n",
        "    \n",
        "    squaredDifference = []\n",
        "    for i in range(len(pred)):\n",
        "        squaredDifference.append((pred[i] - true[i]) ** 2)\n",
        "    \n",
        "    return(sum(squaredDifference) / len(squaredDifference))\n",
        "\n",
        "print(mse([1, 2], [2, 1]))\n",
        "print(mse([1, 5], [5, 1]))"
      ]
    },
    {
      "cell_type": "markdown",
      "metadata": {
        "id": "vpIPKL439zkw"
      },
      "source": [
        "# Задача 6\n",
        "Написать функцию, принимающая целое положительное число. Функция должна вернуть\n",
        "строку вида “(n1**p1)(n2**p2)…(nk**pk)” представляющая разложение числа на простые\n",
        "множители (если pi == 1, то выводить только ni).\n",
        "Например, для числа 86240 функция должна вернуть “(2**5)(5)(7**2)(11)”. Написать тесты для кода"
      ]
    },
    {
      "cell_type": "code",
      "execution_count": 35,
      "metadata": {
        "id": "pFebmcZk94Jw"
      },
      "outputs": [
        {
          "name": "stdout",
          "output_type": "stream",
          "text": [
            "(2**5)(5)(7**2)(11)\n",
            "(2**2)\n",
            "(2)(5)\n",
            "(3)(5)\n",
            "(2**3)(5**3)\n",
            "(3)\n"
          ]
        }
      ],
      "source": [
        "def Factorization(n):\n",
        "    factors = []\n",
        "    ans = ''\n",
        "    d = 2\n",
        "    while d * d <= n:\n",
        "        if n % d == 0:\n",
        "            factors.append(d)\n",
        "            n //= d\n",
        "        else:\n",
        "            d += 1\n",
        "    if n > 1:\n",
        "        factors.append(n)\n",
        "    \n",
        "    uniqueFactors = sorted(set(factors))\n",
        "    \n",
        "    for i in uniqueFactors:\n",
        "        if factors.count(i) == 1:\n",
        "            ans += f'({i})'\n",
        "        else: ans += f'({i}**{factors.count(i)})'\n",
        "\n",
        "    return ans\n",
        "\n",
        "print(Factorization(86240))\n",
        "print(Factorization(4))\n",
        "print(Factorization(10))\n",
        "print(Factorization(15))\n",
        "print(Factorization(1000))\n",
        "print(Factorization(3))"
      ]
    },
    {
      "cell_type": "markdown",
      "metadata": {
        "id": "ps2s0BudX7A2"
      },
      "source": [
        "# Задача 7\n",
        "Написать функцию, принимающая целое число n, задающее количество кубиков. Функция\n",
        "должна определить, можно ли из данного кол-ва кубиков построить пирамиду, то есть\n",
        "можно ли представить число n как 1^2+2^2+3^2+…+k^2. Если можно, то функция должна\n",
        "вернуть k, иначе строку “It is impossible”. Написать тесты для кода"
      ]
    },
    {
      "cell_type": "code",
      "execution_count": 41,
      "metadata": {
        "id": "3YPjEXxhX_YT"
      },
      "outputs": [
        {
          "name": "stdout",
          "output_type": "stream",
          "text": [
            "3\n",
            "4\n",
            "1\n",
            "5\n",
            "It is impossible\n",
            "It is impossible\n"
          ]
        }
      ],
      "source": [
        "def pyramid(number):\n",
        "    k = 1\n",
        "    sum = 0;\n",
        "    while sum < number:\n",
        "        sum += k**2\n",
        "        k += 1\n",
        "    \n",
        "    if sum == number:\n",
        "        return(k - 1)\n",
        "    else: return('It is impossible')\n",
        "\n",
        "print(pyramid(14))\n",
        "print(pyramid(30))\n",
        "print(pyramid(1))\n",
        "print(pyramid(55))\n",
        "print(pyramid(20))\n",
        "print(pyramid(-10))"
      ]
    },
    {
      "cell_type": "markdown",
      "metadata": {
        "id": "KeKgmIdAQMEJ"
      },
      "source": [
        "# Задача 8\n",
        "Функция принимает на вход положительное число и определяет является ли оно сбалансированным, т.е. сумма цифр до средних равна сумме цифр после. Средними в случае нечетного числа цифр считать одну цифру, в случае четного - две средних. Написать тесты для кода"
      ]
    },
    {
      "cell_type": "code",
      "execution_count": 73,
      "metadata": {
        "id": "gMAAqtqlQrZt"
      },
      "outputs": [
        {
          "name": "stdout",
          "output_type": "stream",
          "text": [
            "True\n",
            "True\n",
            "True\n",
            "False\n",
            "False\n",
            "True\n"
          ]
        }
      ],
      "source": [
        "def IsBalanced(number):\n",
        "    number = str(number)\n",
        "    middle = len(number)//2\n",
        "    if len(number) % 2 == 0:\n",
        "        first = number[:middle-1]\n",
        "        second = number[middle+1:]\n",
        "    else:\n",
        "        first = number[:middle]\n",
        "        second = number[middle+1:]\n",
        "\n",
        "    return sum(int(i) for i in first) == sum(int(i) for i in second)\n",
        "\n",
        "print(IsBalanced(11011))\n",
        "print(IsBalanced(110011))\n",
        "print(IsBalanced(1111))\n",
        "print(IsBalanced(11012))\n",
        "print(IsBalanced(123456))\n",
        "print(IsBalanced(25143))"
      ]
    }
  ],
  "metadata": {
    "colab": {
      "provenance": []
    },
    "kernelspec": {
      "display_name": "Python 3",
      "name": "python3"
    },
    "language_info": {
      "codemirror_mode": {
        "name": "ipython",
        "version": 3
      },
      "file_extension": ".py",
      "mimetype": "text/x-python",
      "name": "python",
      "nbconvert_exporter": "python",
      "pygments_lexer": "ipython3",
      "version": "3.12.1"
    }
  },
  "nbformat": 4,
  "nbformat_minor": 0
}
